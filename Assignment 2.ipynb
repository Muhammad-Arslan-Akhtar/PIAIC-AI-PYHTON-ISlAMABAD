{
 "cells": [
  {
   "cell_type": "markdown",
   "metadata": {},
   "source": [
    "# PIAIC61773"
   ]
  },
  {
   "cell_type": "markdown",
   "metadata": {},
   "source": [
    "## Muhammad Arslan Akhtar"
   ]
  },
  {
   "cell_type": "markdown",
   "metadata": {},
   "source": [
    "## Dictionary Tasks"
   ]
  },
  {
   "cell_type": "markdown",
   "metadata": {},
   "source": [
    "### Task 1"
   ]
  },
  {
   "cell_type": "markdown",
   "metadata": {},
   "source": [
    "Python program to add a key-value pair to the dictionary"
   ]
  },
  {
   "cell_type": "markdown",
   "metadata": {},
   "source": [
    "#### Problem solution"
   ]
  },
  {
   "cell_type": "markdown",
   "metadata": {},
   "source": [
    "1. Take a key-value pair from the user and store it in separate variables."
   ]
  },
  {
   "cell_type": "markdown",
   "metadata": {},
   "source": [
    "2. Declare a dictionary and initialize it to an empty dictionaty."
   ]
  },
  {
   "cell_type": "markdown",
   "metadata": {},
   "source": [
    "3. Use the update() function to add the key-value pair to the dictionary."
   ]
  },
  {
   "cell_type": "markdown",
   "metadata": {},
   "source": [
    "4. Print the final dictionary."
   ]
  },
  {
   "cell_type": "markdown",
   "metadata": {},
   "source": [
    "5. Exit."
   ]
  },
  {
   "cell_type": "code",
   "execution_count": 1,
   "metadata": {},
   "outputs": [
    {
     "name": "stdout",
     "output_type": "stream",
     "text": [
      "***Python Program To Add Key-Value Pair To The Dictionary***\n",
      "____________________________________________________________\n",
      "Enter (int) Key: 4\n",
      "Enter (int) Value: 16\n",
      "Updated Dictionary is:  {4: 16}\n"
     ]
    }
   ],
   "source": [
    "print(\"***Python Program To Add Key-Value Pair To The Dictionary***\")\n",
    "print(\"____________________________________________________________\")\n",
    "key = int(input(\"Enter (int) Key: \"))\n",
    "value = int(input(\"Enter (int) Value: \"))\n",
    "dic_1 ={\n",
    "    \n",
    "}\n",
    "dic_1.update({key : value})\n",
    "print(\"Updated Dictionary is: \",dic_1)\n",
    "exit()"
   ]
  },
  {
   "cell_type": "markdown",
   "metadata": {},
   "source": [
    "### Task 2"
   ]
  },
  {
   "cell_type": "markdown",
   "metadata": {},
   "source": [
    "Python Program to Concatenate Two Dictionaries Into One "
   ]
  },
  {
   "cell_type": "markdown",
   "metadata": {},
   "source": [
    "#### Problem Solution "
   ]
  },
  {
   "cell_type": "markdown",
   "metadata": {},
   "source": [
    "1. Declare and initialize two dictionaries with some key-value pairs "
   ]
  },
  {
   "cell_type": "markdown",
   "metadata": {},
   "source": [
    "2. Use the update() function to add the key-value pair from the second dictionary to the first dictionary. "
   ]
  },
  {
   "cell_type": "markdown",
   "metadata": {},
   "source": [
    "3. Print the final dictionary"
   ]
  },
  {
   "cell_type": "markdown",
   "metadata": {},
   "source": [
    "4. Exit. "
   ]
  },
  {
   "cell_type": "code",
   "execution_count": 1,
   "metadata": {},
   "outputs": [
    {
     "name": "stdout",
     "output_type": "stream",
     "text": [
      "***Python Program to Concatenate Two Dictionaries Into One***\n",
      "_____________________________________________________________\n",
      "After concatination the final dictionary is:\n",
      "  {'Name': 'Arslan', 'Course': 'Artificial Intelligence', 'Reg #': 61773, 'Instructor': 'Mr. Qasim', 'venue': 'Bahria University Auditorium'}\n"
     ]
    }
   ],
   "source": [
    "print(\"***Python Program to Concatenate Two Dictionaries Into One***\")\n",
    "print(\"_____________________________________________________________\")\n",
    "dic_a = {\n",
    "    'Name' : 'Arslan',\n",
    "    'Course' : 'Artificial Intelligence',\n",
    "    'Reg #' : 61773\n",
    "}\n",
    "dic_b = {\n",
    "    'Instructor' : 'Mr. Qasim',\n",
    "    'venue' : 'Bahria University Auditorium'\n",
    "}\n",
    "dic_a.update(dic_b)\n",
    "print(\"After concatination the final dictionary is:\\n \",dic_a)\n",
    "exit()"
   ]
  },
  {
   "cell_type": "markdown",
   "metadata": {},
   "source": [
    "### Task 3"
   ]
  },
  {
   "cell_type": "markdown",
   "metadata": {},
   "source": [
    "Python Program to Check if a Given Key Exists in a Dictionary or Not "
   ]
  },
  {
   "cell_type": "markdown",
   "metadata": {},
   "source": [
    "#### Problem Solution "
   ]
  },
  {
   "cell_type": "markdown",
   "metadata": {},
   "source": [
    "1. Declare and initialize a dictionary to have some key-value pairs. "
   ]
  },
  {
   "cell_type": "markdown",
   "metadata": {},
   "source": [
    "2. Take a key from the user and store it in a variable. "
   ]
  },
  {
   "cell_type": "markdown",
   "metadata": {},
   "source": [
    "3. Using an if statement and the in operator, check if the key is present in the dictionary using the dictionary.keys() method. "
   ]
  },
  {
   "cell_type": "markdown",
   "metadata": {},
   "source": [
    "4. If it is present, print the value of the key. "
   ]
  },
  {
   "cell_type": "markdown",
   "metadata": {},
   "source": [
    "5. If it isn’t present, display that the key isn’t present in the dictionary. "
   ]
  },
  {
   "cell_type": "markdown",
   "metadata": {},
   "source": [
    "6. Exit"
   ]
  },
  {
   "cell_type": "code",
   "execution_count": 1,
   "metadata": {},
   "outputs": [
    {
     "name": "stdout",
     "output_type": "stream",
     "text": [
      "***Python Program to Check if a Given Key Exists in a Dictionary or Not***\n",
      "__________________________________________________________________________\n",
      "Enter key you want to check: Name\n",
      "Given key exists in a dictionary and a value of this key is:  Arslan\n"
     ]
    }
   ],
   "source": [
    "print(\"***Python Program to Check if a Given Key Exists in a Dictionary or Not***\")\n",
    "print(\"__________________________________________________________________________\")\n",
    "dic = {\n",
    "    'Name' : 'Arslan',\n",
    "    'Course' : 'Artificial Intelligence',\n",
    "    'Reg #' : 61773       \n",
    "}\n",
    "key = input(\"Enter key you want to check: \")\n",
    "if key in dic.keys():\n",
    "    print(\"Given key exists in a dictionary and a value of this key is: \",dic.get(key))    \n",
    "else:\n",
    "    print(\"Given key does not exists in a dictionary\")\n",
    "exit()"
   ]
  },
  {
   "cell_type": "markdown",
   "metadata": {},
   "source": [
    "### Task 4"
   ]
  },
  {
   "cell_type": "markdown",
   "metadata": {},
   "source": [
    "Python Program to Generate a Dictionary that Contains Numbers (between 1 and n) in the Form (x,x*x). "
   ]
  },
  {
   "cell_type": "markdown",
   "metadata": {},
   "source": [
    "#### Problem Solution "
   ]
  },
  {
   "cell_type": "markdown",
   "metadata": {},
   "source": [
    "1. Take a number from the user and store it in a separate variable. "
   ]
  },
  {
   "cell_type": "markdown",
   "metadata": {},
   "source": [
    "2. Declare a dictionary and using dictionary comprehension initialize it to values keeping the number between 1 to n as the key and the square of the number as their values. "
   ]
  },
  {
   "cell_type": "markdown",
   "metadata": {},
   "source": [
    "3. Print the final dictionary. "
   ]
  },
  {
   "cell_type": "markdown",
   "metadata": {},
   "source": [
    "4. Exit. "
   ]
  },
  {
   "cell_type": "code",
   "execution_count": 1,
   "metadata": {},
   "outputs": [
    {
     "name": "stdout",
     "output_type": "stream",
     "text": [
      "***Python Program to Generate a Dictionary that Contains Numbers (between 1 and n) in the Form (x,x*x).***\n",
      "__________________________________________________________________________________________________________\n",
      "Enter Size: 4\n",
      "{1: 1, 2: 4, 3: 9, 4: 16}\n"
     ]
    }
   ],
   "source": [
    "print(\"***Python Program to Generate a Dictionary that Contains Numbers (between 1 and n) in the Form (x,x*x).***\")\n",
    "print(\"__________________________________________________________________________________________________________\")\n",
    "size = int(input(\"Enter Size: \"))\n",
    "dictionary = {\n",
    "    \n",
    "}\n",
    "for x in range(1,size+1):\n",
    "    dictionary.update({x : x*x})\n",
    "print(dictionary)\n",
    "exit()"
   ]
  },
  {
   "cell_type": "markdown",
   "metadata": {},
   "source": [
    "### Task 5"
   ]
  },
  {
   "cell_type": "markdown",
   "metadata": {},
   "source": [
    "Python Program to Sum All the Items in a Dictionary "
   ]
  },
  {
   "cell_type": "markdown",
   "metadata": {},
   "source": [
    "#### Problem Solution "
   ]
  },
  {
   "cell_type": "markdown",
   "metadata": {},
   "source": [
    "1. Declare and initialize a dictionary to have some key-value pairs"
   ]
  },
  {
   "cell_type": "markdown",
   "metadata": {},
   "source": [
    "2. Find the sum of all the values in the dictionary. "
   ]
  },
  {
   "cell_type": "markdown",
   "metadata": {},
   "source": [
    "3. Print the total sum."
   ]
  },
  {
   "cell_type": "markdown",
   "metadata": {},
   "source": [
    "4. Exit"
   ]
  },
  {
   "cell_type": "code",
   "execution_count": 2,
   "metadata": {},
   "outputs": [
    {
     "name": "stdout",
     "output_type": "stream",
     "text": [
      "***Python Program to Sum All the Items in a Dictionary\n",
      "______________________________________________________\n",
      "dict_values([100, 200])\n",
      "After sum of values: 300\n"
     ]
    }
   ],
   "source": [
    "print(\"***Python Program to Sum All the Items in a Dictionary\")\n",
    "print(\"______________________________________________________\")\n",
    "\n",
    "dic = {\n",
    "    'a' : 100,\n",
    "    'b' : 200\n",
    "}\n",
    "x = dic.values()\n",
    "print(x)\n",
    "dic_sum = dic['a']+dic['b']\n",
    "print(\"After sum of values:\",dic_sum)\n",
    "exit()"
   ]
  },
  {
   "cell_type": "markdown",
   "metadata": {},
   "source": [
    "### Task 6"
   ]
  },
  {
   "cell_type": "markdown",
   "metadata": {},
   "source": [
    "Python Program to Multiply All the Items in a Dictionary "
   ]
  },
  {
   "cell_type": "markdown",
   "metadata": {},
   "source": [
    "#### Problem Solution "
   ]
  },
  {
   "cell_type": "markdown",
   "metadata": {},
   "source": [
    "1. Declare and initialize a dictionary to have some key-value pairs."
   ]
  },
  {
   "cell_type": "markdown",
   "metadata": {},
   "source": [
    "2. Initialize a variable that should contain the total multiplied value to 1."
   ]
  },
  {
   "cell_type": "markdown",
   "metadata": {},
   "source": [
    "3. Use the for loop to traverse through the values of the dictionary."
   ]
  },
  {
   "cell_type": "markdown",
   "metadata": {},
   "source": [
    "4. Then multiply all the values in the dictionary against each other."
   ]
  },
  {
   "cell_type": "markdown",
   "metadata": {},
   "source": [
    "5. Print the total multiplied value. "
   ]
  },
  {
   "cell_type": "markdown",
   "metadata": {},
   "source": [
    "6. Exit. "
   ]
  },
  {
   "cell_type": "code",
   "execution_count": 1,
   "metadata": {},
   "outputs": [
    {
     "name": "stdout",
     "output_type": "stream",
     "text": [
      "***Python Program to Multiply All the Items in a Dictionary\n",
      "___________________________________________________________\n",
      "The multiplication of all items is: 23900\n"
     ]
    }
   ],
   "source": [
    "print(\"***Python Program to Multiply All the Items in a Dictionary\")\n",
    "print(\"___________________________________________________________\")\n",
    "\n",
    "data={\n",
    "    'A':10,\n",
    "    'B':10,\n",
    "    'C':239\n",
    "}\n",
    "num=1\n",
    "for x in data:    \n",
    "    num=num*data[x]\n",
    "print(\"The multiplication of all items is:\" , num)\n",
    "exit()"
   ]
  },
  {
   "cell_type": "markdown",
   "metadata": {},
   "source": [
    "### Task 7"
   ]
  },
  {
   "cell_type": "markdown",
   "metadata": {},
   "source": [
    "Python Program to Remove the Given Key from a Dictionary "
   ]
  },
  {
   "cell_type": "markdown",
   "metadata": {},
   "source": [
    "#### Problem Solution"
   ]
  },
  {
   "cell_type": "markdown",
   "metadata": {},
   "source": [
    "1. Declare and initialize a dictionary to have some key-value pairs. "
   ]
  },
  {
   "cell_type": "markdown",
   "metadata": {},
   "source": [
    "2. Take a key from the user and store it in a variable. "
   ]
  },
  {
   "cell_type": "markdown",
   "metadata": {},
   "source": [
    "3. Using an if statement and the in operator, check if the key is present in the dictionary. "
   ]
  },
  {
   "cell_type": "markdown",
   "metadata": {},
   "source": [
    "4. If it is present, delete the key-value pair. "
   ]
  },
  {
   "cell_type": "markdown",
   "metadata": {},
   "source": [
    "5. If it isn’t present, print that the key isn’t found and exit the program. "
   ]
  },
  {
   "cell_type": "markdown",
   "metadata": {},
   "source": [
    "6. Exit."
   ]
  },
  {
   "cell_type": "code",
   "execution_count": 1,
   "metadata": {},
   "outputs": [
    {
     "name": "stdout",
     "output_type": "stream",
     "text": [
      "***Python Program to Remove the Given Key from a Dictionary\n",
      "___________________________________________________________\n",
      "{'A': 10, 'B': 10, 'C': 239, 'D': 543, 'E': 654}\n",
      "Enter Key You want to remove from A-EA\n",
      "{'B': 10, 'C': 239, 'D': 543, 'E': 654}\n"
     ]
    }
   ],
   "source": [
    "print(\"***Python Program to Remove the Given Key from a Dictionary\")\n",
    "print(\"___________________________________________________________\")\n",
    "\n",
    "data_2={\n",
    "    'A':10,\n",
    "    'B':10,\n",
    "    'C':239,\n",
    "    'D':543,\n",
    "    'E':654\n",
    "}\n",
    "print(data_2)\n",
    "key = input(\"Enter Key You want to remove from A-E\")\n",
    "if key in data_2:\n",
    "    data_2.pop(key)\n",
    "    print(data_2)\n",
    "else:\n",
    "    print(\"Key not found\")\n",
    "exit()"
   ]
  },
  {
   "cell_type": "markdown",
   "metadata": {},
   "source": [
    "### Task 8"
   ]
  },
  {
   "cell_type": "markdown",
   "metadata": {},
   "source": [
    "Python Program to Map Two Lists into a Dictionary "
   ]
  },
  {
   "cell_type": "markdown",
   "metadata": {},
   "source": [
    "#### Problem Solution "
   ]
  },
  {
   "cell_type": "markdown",
   "metadata": {},
   "source": [
    "1. Declare two empty lists and initialize them to an empty list. "
   ]
  },
  {
   "cell_type": "markdown",
   "metadata": {},
   "source": [
    "2. Consider a for loop to accept values for the two lists. "
   ]
  },
  {
   "cell_type": "markdown",
   "metadata": {},
   "source": [
    "3. Take the number of elements in the list and store it in a variable."
   ]
  },
  {
   "cell_type": "markdown",
   "metadata": {},
   "source": [
    "4. Accept the values into the list using another for loop and insert into the list."
   ]
  },
  {
   "cell_type": "markdown",
   "metadata": {},
   "source": [
    "5. Repeat 4 and 5 for the values list also. "
   ]
  },
  {
   "cell_type": "markdown",
   "metadata": {},
   "source": [
    "6. Zip the two lists and use dict() to convert it into a dictionary. "
   ]
  },
  {
   "cell_type": "markdown",
   "metadata": {},
   "source": [
    "7. Print the dictionary. "
   ]
  },
  {
   "cell_type": "markdown",
   "metadata": {},
   "source": [
    "8. Exit. "
   ]
  },
  {
   "cell_type": "code",
   "execution_count": 1,
   "metadata": {},
   "outputs": [
    {
     "name": "stdout",
     "output_type": "stream",
     "text": [
      "***Python Program to Map Two Lists into a Dictionary***\n",
      "_______________________________________________________\n",
      "Enter number of elements for dictionary:2\n",
      "For keys:\n",
      "Enter element 1:1\n",
      "Enter element 2:2\n",
      "For values:\n",
      "Enter element1:1\n",
      "Enter element2:4\n",
      "The dictionary is:\n",
      "{1: 1, 2: 4}\n"
     ]
    }
   ],
   "source": [
    "print(\"***Python Program to Map Two Lists into a Dictionary***\")\n",
    "print(\"_______________________________________________________\")\n",
    "\n",
    "keys=[]\n",
    "values=[]\n",
    "ele=int(input(\"Enter number of elements for dictionary:\"))\n",
    "print(\"For keys:\")\n",
    "for r in range(1,ele+1):\n",
    "    element=int(input(\"Enter element \"+str(r)+ \":\"))\n",
    "    keys.append(element)\n",
    "print(\"For values:\")\n",
    "for r in range(1,ele+1):\n",
    "    element=int(input(\"Enter element\"+str(r)+\":\"))\n",
    "    values.append(element)\n",
    "    s=dict(zip(keys,values))\n",
    "print(\"The dictionary is:\")\n",
    "print(s)\n",
    "exit()"
   ]
  },
  {
   "cell_type": "markdown",
   "metadata": {},
   "source": [
    "### Task 9"
   ]
  },
  {
   "cell_type": "markdown",
   "metadata": {},
   "source": [
    "Python Program to Count the Frequency of Words Appearing in a String Using a Dictionary "
   ]
  },
  {
   "cell_type": "markdown",
   "metadata": {},
   "source": [
    "#### Problem Solution"
   ]
  },
  {
   "cell_type": "markdown",
   "metadata": {},
   "source": [
    "1. Enter a string and store it in a variable. "
   ]
  },
  {
   "cell_type": "markdown",
   "metadata": {},
   "source": [
    "2. Declare a list variable and initialize it to an empty list. "
   ]
  },
  {
   "cell_type": "markdown",
   "metadata": {},
   "source": [
    "3. Split the string into words and store it in the list. "
   ]
  },
  {
   "cell_type": "markdown",
   "metadata": {},
   "source": [
    "4. Count the frequency of each word and store it in another list. "
   ]
  },
  {
   "cell_type": "markdown",
   "metadata": {},
   "source": [
    "5. Using the zip() function, merge the lists containing the words and the word counts into a dictionary. "
   ]
  },
  {
   "cell_type": "markdown",
   "metadata": {},
   "source": [
    "6. Print the final dictionary. "
   ]
  },
  {
   "cell_type": "markdown",
   "metadata": {},
   "source": [
    "7. Exit. "
   ]
  },
  {
   "cell_type": "code",
   "execution_count": 1,
   "metadata": {},
   "outputs": [
    {
     "name": "stdout",
     "output_type": "stream",
     "text": [
      "***Python Program to Count the Frequency of Words Appearing in a String Using a Dictionary***\n",
      "_____________________________________________________________________________________________\n",
      "case : 1\n",
      "Enter string:hello world my world\n",
      "['hello', 'world', 'my', 'world']\n",
      "{'hello': 1, 'world': 2, 'my': 1}\n",
      "case : 2\n",
      "Enter string:hello there\n",
      "['hello', 'there']\n",
      "{'hello': 1, 'there': 1}\n"
     ]
    }
   ],
   "source": [
    "print(\"***Python Program to Count the Frequency of Words Appearing in a String Using a Dictionary***\")\n",
    "print(\"_____________________________________________________________________________________________\")\n",
    "for t in range(1,3):\n",
    "    print(\"case :\", t )\n",
    "    val=input(\"Enter string:\")\n",
    "    list1=[]\n",
    "    list1=val.split()\n",
    "    print(list1)\n",
    "    count_word_freq=[list1.count(t) for t in list1] \n",
    "    print(dict(zip(list1,count_word_freq)))\n",
    "exit()"
   ]
  },
  {
   "cell_type": "markdown",
   "metadata": {},
   "source": [
    "### Task 10"
   ]
  },
  {
   "cell_type": "markdown",
   "metadata": {},
   "source": [
    "Python Program to Create a Dictionary with Key as First Character and Value as Words Starting with that Character "
   ]
  },
  {
   "cell_type": "markdown",
   "metadata": {},
   "source": [
    "#### Problem Solution"
   ]
  },
  {
   "cell_type": "markdown",
   "metadata": {},
   "source": [
    "1. Enter a string and store it in a variable. "
   ]
  },
  {
   "cell_type": "markdown",
   "metadata": {},
   "source": [
    "2. Declare an empty dictionary. "
   ]
  },
  {
   "cell_type": "markdown",
   "metadata": {},
   "source": [
    "3. Split the string into words and store it in a list. "
   ]
  },
  {
   "cell_type": "markdown",
   "metadata": {},
   "source": [
    "4. Using a for loop and if statement check if the word already present as a key in the dictionary. "
   ]
  },
  {
   "cell_type": "markdown",
   "metadata": {},
   "source": [
    "5. If it is not present, initialize the letter of the word as the key and the word as the value and append it to a sublist created in the list. "
   ]
  },
  {
   "cell_type": "markdown",
   "metadata": {},
   "source": [
    "6. If it is present, add the word as the value to the corresponding sublist. "
   ]
  },
  {
   "cell_type": "markdown",
   "metadata": {},
   "source": [
    "7. Print the final dictionary. \n"
   ]
  },
  {
   "cell_type": "markdown",
   "metadata": {},
   "source": [
    "8. Exit."
   ]
  },
  {
   "cell_type": "code",
   "execution_count": 1,
   "metadata": {},
   "outputs": [
    {
     "name": "stdout",
     "output_type": "stream",
     "text": [
      "***Python Program to Create a Dictionary with Key as First Character and Value as Words Starting with that Character**\n",
      "_______________________________________________________________________________________________________________________\n",
      "case : 1\n",
      "Enter string: hello my world \n",
      "['hello', 'my', 'world']\n",
      "( ' h ' : ['hello'] )\n",
      "( ' m ' : ['my'] )\n",
      "( ' w ' : ['world'] )\n",
      "case : 2\n",
      "Enter string: hello world my world\n",
      "['hello', 'world', 'my', 'world']\n",
      "( ' h ' : ['hello'] )\n",
      "( ' w ' : ['world', 'world'] )\n",
      "( ' m ' : ['my'] )\n"
     ]
    }
   ],
   "source": [
    "print(\"***Python Program to Create a Dictionary with Key as First Character and Value as Words Starting with that Character**\")\n",
    "print(\"_______________________________________________________________________________________________________________________\")\n",
    "for f in range(1,3):\n",
    "    print(\"case :\", f )\n",
    "    var1 = input(\"Enter string: \")\n",
    "    dict3 = {}\n",
    "    list1 =[]\n",
    "    list2 = []\n",
    "    list1 = var1.split()\n",
    "    print(list1)\n",
    "    for word in list1:\n",
    "        if(word[0] not in dict3.keys()):\n",
    "            dict3[word[0]]=[] \n",
    "            dict3[word[0]].append(word) \n",
    "        else:\n",
    "            if(word[0] in dict3.keys()):\n",
    "                dict3[word[0]].append(word)\n",
    "   \n",
    "    for key, value in dict3.items():\n",
    "        print(\"(\",\"'\",key,\"'\",\":\", value,\")\")\n",
    "exit()"
   ]
  },
  {
   "cell_type": "code",
   "execution_count": null,
   "metadata": {},
   "outputs": [],
   "source": []
  }
 ],
 "metadata": {
  "kernelspec": {
   "display_name": "Python 3",
   "language": "python",
   "name": "python3"
  },
  "language_info": {
   "codemirror_mode": {
    "name": "ipython",
    "version": 3
   },
   "file_extension": ".py",
   "mimetype": "text/x-python",
   "name": "python",
   "nbconvert_exporter": "python",
   "pygments_lexer": "ipython3",
   "version": "3.7.3"
  }
 },
 "nbformat": 4,
 "nbformat_minor": 2
}
